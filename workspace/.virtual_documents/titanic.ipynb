import matplotlib as mpl
import matplotlib.pyplot as plt
import numpy as np
import pandas as pd
import scipy as sp
import seaborn as sns


# train test　はそれぞれ別々だが合体させてnanを補完する形とする

train = pd.read_csv("./input/titanic/train.csv")
test = pd.read_csv("./input/titanic/test.csv")
test["Survived"] = np.nan
titanic = pd.concat([train, test], ignore_index=True, sort=False)
titanic.info()


# Ageに空白のない要素を抽出、学習・評価に使用
# モデルの作成
from sklearn.model_selection import cross_val_score
from sklearn.svm import SVR

X0 = titanic[titanic["Age"].notnull()][["Pclass", "SibSp", "Parch", "Sex"]]
X = pd.get_dummies(X0, dtype="uint8")
y = titanic[titanic["Age"].notnull()]["Age"]

model = SVR(kernel="rbf", gamma=0.1, C=10)
cv_scores = cross_val_score(model, X, y, scoring="neg_mean_squared_error", cv=5)

np.mean(cv_scores)


# 作成したモデルにて、欠損値の補完をする
age_nandata0 = titanic[titanic["Age"].isnull()][["Pclass", "SibSp", "Parch", "Sex"]]
age_nandata = pd.get_dummies(age_nandata0, dtype="uint8")
model.fit(X, y)
pred_age = model.predict(age_nandata)
titanic.loc[(titanic.Age.isnull()), "Age"] = pred_age
titanic.info()


# 年齢別生存曲線と死亡曲線
plt.figure(layout="constrained")
facet = sns.FacetGrid(titanic[0:890], hue="Survived", aspect=2)
facet.map(sns.kdeplot, "Age", fill=True)
facet.set(xlim=(0, titanic.loc[0:890, "Age"].max()))
facet.add_legend()
facet.tight_layout()



