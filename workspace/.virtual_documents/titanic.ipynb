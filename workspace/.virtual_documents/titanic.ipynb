import matplotlib as mpl
import matplotlib.pyplot as plt
import numpy as np
import pandas as pd
import scipy as sp
import seaborn as sns


train = pd.read_csv("./input/titanic/train.csv")
train.info()


train.head(10)


train[train["Age"].isnull()]


# 年齢が欠損値でない行を抽出　→　モデルの学習・評価に使用する
# 欠損値の行は作成したモデルで予測していく
pred_age = train.dropna(subset=["Age"])
X_pred_age = pred_age.drop("Age", axis=1)
y_pred_age = pred_age["Age"]
