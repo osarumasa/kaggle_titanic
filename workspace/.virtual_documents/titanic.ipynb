import matplotlib as mpl
import matplotlib.pyplot as plt
import numpy as np
import pandas as pd
import scipy as sp
import seaborn as sns


# train test　はそれぞれ別々だが合体させてnanを補完する形とする

train = pd.read_csv("./input/titanic/train.csv")
test = pd.read_csv("./input/titanic/test.csv")
test["Survived"] = np.nan
titanic = pd.concat([train, test], ignore_index=True, sort=False)
titanic.info()


# Ageに空白のない要素を抽出、学習・評価に使用
# モデルの作成
from sklearn.model_selection import cross_val_score
from sklearn.svm import SVR

X0 = titanic[titanic["Age"].notnull()][["Pclass", "SibSp", "Parch", "Sex"]]
X = pd.get_dummies(X0, dtype="uint8")
y = titanic[titanic["Age"].notnull()]["Age"]

model = SVR(kernel="rbf", gamma=0.1, C=10)
cv_scores = cross_val_score(model, X, y, scoring="neg_mean_squared_error", cv=5)

np.mean(cv_scores)


# 作成したモデルにて、欠損値の補完をする
age_nandata0 = titanic[titanic["Age"].isnull()][["Pclass", "SibSp", "Parch", "Sex"]]
age_nandata = pd.get_dummies(age_nandata0, dtype="uint8")
model.fit(X, y)
pred_age = model.predict(age_nandata)
titanic.loc[(titanic.Age.isnull()), "Age"] = pred_age
titanic.info()


# 年齢別生存曲線と死亡曲線
plt.figure(layout="constrained")
facet = sns.FacetGrid(titanic[0:890], hue="Survived", aspect=2)
facet.map(sns.kdeplot, "Age", fill=True)
facet.set(xlim=(0, titanic.loc[0:890, "Age"].max()))
facet.add_legend()
facet.tight_layout()


titanic.head()


# Fare(運賃)の補完　1308/1309
# Pclass(階級) Embarked(乗船場所)が関連してそう
# 上記2つの要素の最頻値の組み合わせの中央値を欠損値として補完する

P_E_mode = titanic[["Pclass", "Embarked"]].mode().values
P_E_mode_select = titanic[(titanic["Pclass"] == P_E_mode[0, 0]) & (titanic["Embarked"] == P_E_mode[0, 1])]
fill_fare = P_E_mode_select["Fare"].median()
titanic["Fare"] = titanic["Fare"].fillna(fill_fare)
titanic.info()


# cabin(チケット番号)の補完　295/1309
# Unknownで補完し、頭文字を新しい特徴量に置き換える

titanic["Cabin"] = titanic["Cabin"].fillna("Unknown")
titanic["Cabin_label"] = titanic["Cabin"].str[0]
titanic.info()


# 棒グラフにすると
# 欠損値の生存率が明らかに低い　＝　これは特徴として現れたのでこれ以上細かくする必要はない
sns.barplot(x="Cabin_label", y="Survived", data=titanic, palette="Set3")
plt.show()


# Embarkedの補完　1307/1309
fill_Embarked = titanic["Embarked"].mode().values
titanic["Embarked"] = titanic["Embarked"].fillna(fill_Embarked[0])
titanic.info()


titanic["family_size"] = titanic["SibSp"] + titanic["Parch"]
sns.barplot(x="family_size", y="Survived", data=titanic, palette="Set3")
plt.show()


titanic["Age*Pclass"] = titanic["Age"] * titanic["Pclass"]


titanic["Ticket_group"] = titanic["Ticket"].map(titanic["Ticket"].value_counts())
sns.barplot(x="Ticket_group", y="Survived", data=titanic, palette="Set3")
plt.show()


titanic.head()


from sklearn.ensemble import RandomForestClassifier
from sklearn.feature_selection import SelectKBest
from sklearn.model_selection import cross_validate
from sklearn.pipeline import make_pipeline

titanic_select = titanic[
    [
        "Survived",
        "Pclass",
        "Sex",
        "Age",
        "SibSp",
        "Parch",
        "Fare",
        "Embarked",
        "Cabin_label",
        "family_size",
        "Age*Pclass",
        "Ticket_group",
    ]
]
titanic_select_1hot = pd.get_dummies(titanic_select, dtype="uint8")
train_data = titanic_select_1hot[titanic_select_1hot["Survived"].notnull()]
test_data = titanic_select_1hot[titanic_select_1hot["Survived"].isnull()].drop("Survived", axis=1)
X = train_data.values[:, 1:]
y = train_data.values[:, 0]
test_x = test_data.values

select = SelectKBest(k=20)
model = RandomForestClassifier(random_state=0, warm_start=True, n_estimators=25, max_depth=6, max_features="sqrt")
pipeline = make_pipeline(select, model)
pipeline.fit(X, y)
cv_result = cross_validate(pipeline, X, y, cv=7)
print("mean_score = ", np.mean(cv_result["test_score"]))
print("mean_std = ", np.std(cv_result["test_score"]))


# ----- Submit dataの作成　-------
# test:ディレクトリ「input」内のtest.csv
PassengerId = test["PassengerId"]
predictions = pipeline.predict(test_x)
submission = pd.DataFrame({"PassengerId": PassengerId, "Survived": predictions.astype(np.int32)})
submission.to_csv("my_submission.csv", index=False)



