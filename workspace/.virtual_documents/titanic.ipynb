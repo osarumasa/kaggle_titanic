import matplotlib as mpl
import matplotlib.pyplot as plt
import numpy as np
import pandas as pd
import scipy as sp
import seaborn as sns


train = pd.read_csv("./input/titanic/train.csv")
train.info()


train.head(10)


train[train["Age"].isnull()]


# 年齢が欠損値でない行を抽出　→　モデルの学習・評価に使用する
# 欠損値の行は作成したモデルで予測していく
# text data の列は削除
pred_age = train.dropna(subset=["Age"]).reset_index(drop=True)
pred_age = pred_age[["Pclass", "SibSp", "Parch", "Fare", "Age"]]
X_pred_age = pred_age.drop("Age", axis=1)
y_pred_age = pred_age["Age"]


# 列追加　カラム名「age bracket」
# young:0 adult:1 elder:2
def age_classification(age):
    young = 18.0
    adult = 50.0
    elder = 100.0
    if age >= 0 and age <= young:
        age_bracket = 0
    if age > young and age <= adult:
        age_bracket = 1
    if age > adult and age <= elder:
        age_bracket = 2
    return age_bracket


age_bracket1 = []
i = 0
for i in range(y_pred_age.size):
    age_bracket1.append(age_classification(y_pred_age[i]))

age_bracket1 = pd.Series(age_bracket1, name="age_bracket")
pred_agebracket = pd.concat([pred_age, age_bracket1], axis=1)


X_pred_agebracket = pred_agebracket.drop(["Age", "age_bracket"], axis=1)
y_pred_agebracket = pred_agebracket["age_bracket"]
X_pred_agebracket.head()


from sklearn.preprocessing import StandardScaler

sc = StandardScaler()
sc.fit(X_pred_agebracket)
std_X_pred_agebracket = sc.transform(X_pred_agebracket)
std_X_pred_agebracket


from sklearn.linear_model import LinearRegression
from sklearn.model_selection import cross_val_score
from sklearn.neighbors import KNeighborsClassifier
from sklearn.svm import SVC, LinearSVC

models = {
    "線形SVC": LinearSVC(),
    "SVC": SVC(),
    "K近傍法": KNeighborsClassifier(),
}
scoring = "accuracy"

for model_name, model in models.items():
    scores = cross_val_score(model, std_X_pred_agebracket, y_pred_agebracket, scoring=scoring, cv=4, n_jobs=-1)
    print(model_name)
    print("正解率平均スコア:{:.3f}".format(np.mean(scores)))


from sklearn.model_selection import GridSearchCV

model = SVC()
param = {"C": np.logspace(-4, 4, 9, base=10), "gamma": np.logspace(-4, 4, 9, base=10), "kernel": ["rbf"]}
gscv = GridSearchCV(model, param, scoring="accuracy", n_jobs=-1, cv=4)
gscv.fit(std_X_pred_agebracket, y_pred_agebracket)
gscv.best_score_


gscv.best_params_



