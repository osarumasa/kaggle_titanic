{
 "cells": [
  {
   "cell_type": "markdown",
   "id": "326d02f2-8317-4962-be96-c1a7e108782a",
   "metadata": {},
   "source": [
    "まずはデータの確認・前処理をしていく"
   ]
  },
  {
   "cell_type": "code",
   "execution_count": 1,
   "id": "e3dfbe80-3d02-45b3-8da9-75725ab3127d",
   "metadata": {
    "tags": []
   },
   "outputs": [],
   "source": [
    "import matplotlib as mpl\n",
    "import matplotlib.pyplot as plt\n",
    "import numpy as np\n",
    "import pandas as pd\n",
    "import scipy as sp\n",
    "import seaborn as sns"
   ]
  },
  {
   "cell_type": "code",
   "execution_count": 2,
   "id": "573de147-abd0-4ff8-9992-17a212913648",
   "metadata": {
    "tags": []
   },
   "outputs": [
    {
     "name": "stdout",
     "output_type": "stream",
     "text": [
      "<class 'pandas.core.frame.DataFrame'>\n",
      "RangeIndex: 1309 entries, 0 to 1308\n",
      "Data columns (total 12 columns):\n",
      " #   Column       Non-Null Count  Dtype  \n",
      "---  ------       --------------  -----  \n",
      " 0   PassengerId  1309 non-null   int64  \n",
      " 1   Survived     891 non-null    float64\n",
      " 2   Pclass       1309 non-null   int64  \n",
      " 3   Name         1309 non-null   object \n",
      " 4   Sex          1309 non-null   object \n",
      " 5   Age          1046 non-null   float64\n",
      " 6   SibSp        1309 non-null   int64  \n",
      " 7   Parch        1309 non-null   int64  \n",
      " 8   Ticket       1309 non-null   object \n",
      " 9   Fare         1308 non-null   float64\n",
      " 10  Cabin        295 non-null    object \n",
      " 11  Embarked     1307 non-null   object \n",
      "dtypes: float64(3), int64(4), object(5)\n",
      "memory usage: 122.8+ KB\n"
     ]
    }
   ],
   "source": [
    "# train test　はそれぞれ別々だが合体させてnanを補完する形とする\n",
    "\n",
    "train = pd.read_csv(\"./input/titanic/train.csv\")\n",
    "test = pd.read_csv(\"./input/titanic/test.csv\")\n",
    "test[\"Survived\"] = np.nan\n",
    "titanic = pd.concat([train, test], ignore_index=True, sort=False)\n",
    "titanic.info()"
   ]
  },
  {
   "cell_type": "markdown",
   "id": "f38d8daf-76a6-4362-bd38-a0f0f6bfb2af",
   "metadata": {
    "tags": []
   },
   "source": [
    "----------------------------Age------------------------------------"
   ]
  },
  {
   "cell_type": "markdown",
   "id": "69e831e1-e894-4b96-b575-9b8510e5dec6",
   "metadata": {},
   "source": [
    "年齢に欠損があるため、穴埋めする（欠損数：１７７）\n",
    "\n",
    "SVRを使用し、年齢予測する"
   ]
  },
  {
   "cell_type": "code",
   "execution_count": 3,
   "id": "973357be-8389-4829-b135-0672921d5642",
   "metadata": {
    "tags": []
   },
   "outputs": [
    {
     "data": {
      "text/plain": [
       "-152.5951819650214"
      ]
     },
     "execution_count": 3,
     "metadata": {},
     "output_type": "execute_result"
    }
   ],
   "source": [
    "# Ageに空白のない要素を抽出、学習・評価に使用\n",
    "# モデルの作成\n",
    "from sklearn.model_selection import cross_val_score\n",
    "from sklearn.svm import SVR\n",
    "\n",
    "X0 = titanic[titanic[\"Age\"].notnull()][[\"Pclass\", \"SibSp\", \"Parch\", \"Sex\"]]\n",
    "X = pd.get_dummies(X0, dtype=\"uint8\")\n",
    "y = titanic[titanic[\"Age\"].notnull()][\"Age\"]\n",
    "\n",
    "model = SVR(kernel=\"rbf\", gamma=0.1, C=10)\n",
    "cv_scores = cross_val_score(model, X, y, scoring=\"neg_mean_squared_error\", cv=5)\n",
    "\n",
    "np.mean(cv_scores)"
   ]
  },
  {
   "cell_type": "code",
   "execution_count": 4,
   "id": "23d19fca-4fc5-4554-bbf7-0359f0a6ea8d",
   "metadata": {
    "tags": []
   },
   "outputs": [
    {
     "name": "stdout",
     "output_type": "stream",
     "text": [
      "<class 'pandas.core.frame.DataFrame'>\n",
      "RangeIndex: 1309 entries, 0 to 1308\n",
      "Data columns (total 12 columns):\n",
      " #   Column       Non-Null Count  Dtype  \n",
      "---  ------       --------------  -----  \n",
      " 0   PassengerId  1309 non-null   int64  \n",
      " 1   Survived     891 non-null    float64\n",
      " 2   Pclass       1309 non-null   int64  \n",
      " 3   Name         1309 non-null   object \n",
      " 4   Sex          1309 non-null   object \n",
      " 5   Age          1309 non-null   float64\n",
      " 6   SibSp        1309 non-null   int64  \n",
      " 7   Parch        1309 non-null   int64  \n",
      " 8   Ticket       1309 non-null   object \n",
      " 9   Fare         1308 non-null   float64\n",
      " 10  Cabin        295 non-null    object \n",
      " 11  Embarked     1307 non-null   object \n",
      "dtypes: float64(3), int64(4), object(5)\n",
      "memory usage: 122.8+ KB\n"
     ]
    }
   ],
   "source": [
    "# 作成したモデルにて、欠損値の補完をする\n",
    "age_nandata0 = titanic[titanic[\"Age\"].isnull()][[\"Pclass\", \"SibSp\", \"Parch\", \"Sex\"]]\n",
    "age_nandata = pd.get_dummies(age_nandata0, dtype=\"uint8\")\n",
    "model.fit(X, y)\n",
    "pred_age = model.predict(age_nandata)\n",
    "titanic.loc[(titanic.Age.isnull()), \"Age\"] = pred_age\n",
    "titanic.info()"
   ]
  },
  {
   "cell_type": "code",
   "execution_count": 11,
   "id": "55f3a700-be83-44ff-abc5-2ab4ff03c3bf",
   "metadata": {
    "tags": []
   },
   "outputs": [
    {
     "name": "stderr",
     "output_type": "stream",
     "text": [
      "/opt/conda/lib/python3.10/site-packages/seaborn/axisgrid.py:118: UserWarning: The figure layout has changed to tight\n",
      "  self._figure.tight_layout(*args, **kwargs)\n"
     ]
    },
    {
     "data": {
      "text/plain": [
       "<seaborn.axisgrid.FacetGrid at 0x7f9354307cd0>"
      ]
     },
     "execution_count": 11,
     "metadata": {},
     "output_type": "execute_result"
    },
    {
     "data": {
      "text/plain": [
       "<Figure size 640x480 with 0 Axes>"
      ]
     },
     "metadata": {},
     "output_type": "display_data"
    },
    {
     "data": {
      "image/png": "[encoded data removed]",
      "text/plain": [
       "<Figure size 672.111x300 with 1 Axes>"
      ]
     },
     "metadata": {},
     "output_type": "display_data"
    }
   ],
   "source": [
    "# 年齢別生存曲線と死亡曲線\n",
    "plt.figure(layout=\"constrained\")\n",
    "facet = sns.FacetGrid(titanic[0:890], hue=\"Survived\", aspect=2)\n",
    "facet.map(sns.kdeplot, \"Age\", fill=True)\n",
    "facet.set(xlim=(0, titanic.loc[0:890, \"Age\"].max()))\n",
    "facet.add_legend()\n",
    "facet.tight_layout()"
   ]
  },
  {
   "cell_type": "markdown",
   "id": "da1ee8d8-9ec1-4113-a5ec-f8c7682536f4",
   "metadata": {},
   "source": [
    "---------------Name--------------"
   ]
  },
  {
   "cell_type": "code",
   "execution_count": null,
   "id": "5effede2-0a6b-494c-a041-368d3217974d",
   "metadata": {},
   "outputs": [],
   "source": []
  }
 ],
 "metadata": {
  "kernelspec": {
   "display_name": "Python 3 (ipykernel)",
   "language": "python",
   "name": "python3"
  },
  "language_info": {
   "codemirror_mode": {
    "name": "ipython",
    "version": 3
   },
   "file_extension": ".py",
   "mimetype": "text/x-python",
   "name": "python",
   "nbconvert_exporter": "python",
   "pygments_lexer": "ipython3",
   "version": "3.10.12"
  }
 },
 "nbformat": 4,
 "nbformat_minor": 5
}
