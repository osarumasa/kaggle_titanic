{
 "cells": [
  {
   "cell_type": "markdown",
   "id": "326d02f2-8317-4962-be96-c1a7e108782a",
   "metadata": {},
   "source": [
    "まずはデータの確認・前処理をしていく"
   ]
  },
  {
   "cell_type": "code",
   "execution_count": 1,
   "id": "e3dfbe80-3d02-45b3-8da9-75725ab3127d",
   "metadata": {
    "tags": []
   },
   "outputs": [],
   "source": [
    "import matplotlib as mpl\n",
    "import matplotlib.pyplot as plt\n",
    "import numpy as np\n",
    "import pandas as pd\n",
    "import scipy as sp\n",
    "import seaborn as sns"
   ]
  },
  {
   "cell_type": "code",
   "execution_count": 2,
   "id": "573de147-abd0-4ff8-9992-17a212913648",
   "metadata": {
    "tags": []
   },
   "outputs": [
    {
     "name": "stdout",
     "output_type": "stream",
     "text": [
      "<class 'pandas.core.frame.DataFrame'>\n",
      "RangeIndex: 1309 entries, 0 to 1308\n",
      "Data columns (total 12 columns):\n",
      " #   Column       Non-Null Count  Dtype  \n",
      "---  ------       --------------  -----  \n",
      " 0   PassengerId  1309 non-null   int64  \n",
      " 1   Survived     891 non-null    float64\n",
      " 2   Pclass       1309 non-null   int64  \n",
      " 3   Name         1309 non-null   object \n",
      " 4   Sex          1309 non-null   object \n",
      " 5   Age          1046 non-null   float64\n",
      " 6   SibSp        1309 non-null   int64  \n",
      " 7   Parch        1309 non-null   int64  \n",
      " 8   Ticket       1309 non-null   object \n",
      " 9   Fare         1308 non-null   float64\n",
      " 10  Cabin        295 non-null    object \n",
      " 11  Embarked     1307 non-null   object \n",
      "dtypes: float64(3), int64(4), object(5)\n",
      "memory usage: 122.8+ KB\n"
     ]
    }
   ],
   "source": [
    "# train test　はそれぞれ別々だが合体させてnanを補完する形とする\n",
    "\n",
    "train = pd.read_csv(\"./input/titanic/train.csv\")\n",
    "test = pd.read_csv(\"./input/titanic/test.csv\")\n",
    "test[\"Survived\"] = np.nan\n",
    "titanic = pd.concat([train, test], ignore_index=True, sort=False)\n",
    "titanic.info()"
   ]
  },
  {
   "cell_type": "markdown",
   "id": "f38d8daf-76a6-4362-bd38-a0f0f6bfb2af",
   "metadata": {
    "tags": []
   },
   "source": [
    "----------------------------Age------------------------------------"
   ]
  },
  {
   "cell_type": "markdown",
   "id": "69e831e1-e894-4b96-b575-9b8510e5dec6",
   "metadata": {},
   "source": [
    "年齢に欠損があるため、穴埋めする（欠損数：１７７）\n",
    "\n",
    "SVRを使用し、年齢予測する"
   ]
  },
  {
   "cell_type": "code",
   "execution_count": 3,
   "id": "973357be-8389-4829-b135-0672921d5642",
   "metadata": {
    "tags": []
   },
   "outputs": [
    {
     "data": {
      "text/plain": [
       "-152.5951819650214"
      ]
     },
     "execution_count": 3,
     "metadata": {},
     "output_type": "execute_result"
    }
   ],
   "source": [
    "# Ageに空白のない要素を抽出、学習・評価に使用\n",
    "# モデルの作成\n",
    "from sklearn.model_selection import cross_val_score\n",
    "from sklearn.svm import SVR\n",
    "\n",
    "X0 = titanic[titanic[\"Age\"].notnull()][[\"Pclass\", \"SibSp\", \"Parch\", \"Sex\"]]\n",
    "X = pd.get_dummies(X0, dtype=\"uint8\")\n",
    "y = titanic[titanic[\"Age\"].notnull()][\"Age\"]\n",
    "\n",
    "model = SVR(kernel=\"rbf\", gamma=0.1, C=10)\n",
    "cv_scores = cross_val_score(model, X, y, scoring=\"neg_mean_squared_error\", cv=5)\n",
    "\n",
    "np.mean(cv_scores)"
   ]
  },
  {
   "cell_type": "code",
   "execution_count": 4,
   "id": "23d19fca-4fc5-4554-bbf7-0359f0a6ea8d",
   "metadata": {
    "tags": []
   },
   "outputs": [
    {
     "name": "stdout",
     "output_type": "stream",
     "text": [
      "<class 'pandas.core.frame.DataFrame'>\n",
      "RangeIndex: 1309 entries, 0 to 1308\n",
      "Data columns (total 12 columns):\n",
      " #   Column       Non-Null Count  Dtype  \n",
      "---  ------       --------------  -----  \n",
      " 0   PassengerId  1309 non-null   int64  \n",
      " 1   Survived     891 non-null    float64\n",
      " 2   Pclass       1309 non-null   int64  \n",
      " 3   Name         1309 non-null   object \n",
      " 4   Sex          1309 non-null   object \n",
      " 5   Age          1309 non-null   float64\n",
      " 6   SibSp        1309 non-null   int64  \n",
      " 7   Parch        1309 non-null   int64  \n",
      " 8   Ticket       1309 non-null   object \n",
      " 9   Fare         1308 non-null   float64\n",
      " 10  Cabin        295 non-null    object \n",
      " 11  Embarked     1307 non-null   object \n",
      "dtypes: float64(3), int64(4), object(5)\n",
      "memory usage: 122.8+ KB\n"
     ]
    }
   ],
   "source": [
    "# 作成したモデルにて、欠損値の補完をする\n",
    "age_nandata0 = titanic[titanic[\"Age\"].isnull()][[\"Pclass\", \"SibSp\", \"Parch\", \"Sex\"]]\n",
    "age_nandata = pd.get_dummies(age_nandata0, dtype=\"uint8\")\n",
    "model.fit(X, y)\n",
    "pred_age = model.predict(age_nandata)\n",
    "titanic.loc[(titanic.Age.isnull()), \"Age\"] = pred_age\n",
    "titanic.info()"
   ]
  },
  {
   "cell_type": "code",
   "execution_count": 5,
   "id": "55f3a700-be83-44ff-abc5-2ab4ff03c3bf",
   "metadata": {
    "tags": []
   },
   "outputs": [
    {
     "name": "stderr",
     "output_type": "stream",
     "text": [
      "/opt/conda/lib/python3.10/site-packages/seaborn/axisgrid.py:118: UserWarning: The figure layout has changed to tight\n",
      "  self._figure.tight_layout(*args, **kwargs)\n"
     ]
    },
    {
     "data": {
      "text/plain": [
       "<seaborn.axisgrid.FacetGrid at 0x7f3b8549c190>"
      ]
     },
     "execution_count": 5,
     "metadata": {},
     "output_type": "execute_result"
    },
    {
     "data": {
      "text/plain": [
       "<Figure size 640x480 with 0 Axes>"
      ]
     },
     "metadata": {},
     "output_type": "display_data"
    },
    {
     "data": {
      "image/png": "[encoded data removed]",
      "text/plain": [
       "<Figure size 672.111x300 with 1 Axes>"
      ]
     },
     "metadata": {},
     "output_type": "display_data"
    }
   ],
   "source": [
    "# 年齢別生存曲線と死亡曲線\n",
    "plt.figure(layout=\"constrained\")\n",
    "facet = sns.FacetGrid(titanic[0:890], hue=\"Survived\", aspect=2)\n",
    "facet.map(sns.kdeplot, \"Age\", fill=True)\n",
    "facet.set(xlim=(0, titanic.loc[0:890, \"Age\"].max()))\n",
    "facet.add_legend()\n",
    "facet.tight_layout()"
   ]
  },
  {
   "cell_type": "markdown",
   "id": "eba202ae-a3bc-454a-bc71-d5830a891926",
   "metadata": {
    "tags": []
   },
   "source": [
    "２０～３０代の死亡率が高い"
   ]
  },
  {
   "cell_type": "code",
   "execution_count": 6,
   "id": "7f8db842-12c3-468d-bf89-fad5e64fb453",
   "metadata": {},
   "outputs": [
    {
     "data": {
      "text/html": [
       "<div>\n",
       "<style scoped>\n",
       "    .dataframe tbody tr th:only-of-type {\n",
       "        vertical-align: middle;\n",
       "    }\n",
       "\n",
       "    .dataframe tbody tr th {\n",
       "        vertical-align: top;\n",
       "    }\n",
       "\n",
       "    .dataframe thead th {\n",
       "        text-align: right;\n",
       "    }\n",
       "</style>\n",
       "<table border=\"1\" class=\"dataframe\">\n",
       "  <thead>\n",
       "    <tr style=\"text-align: right;\">\n",
       "      <th></th>\n",
       "      <th>PassengerId</th>\n",
       "      <th>Survived</th>\n",
       "      <th>Pclass</th>\n",
       "      <th>Name</th>\n",
       "      <th>Sex</th>\n",
       "      <th>Age</th>\n",
       "      <th>SibSp</th>\n",
       "      <th>Parch</th>\n",
       "      <th>Ticket</th>\n",
       "      <th>Fare</th>\n",
       "      <th>Cabin</th>\n",
       "      <th>Embarked</th>\n",
       "    </tr>\n",
       "  </thead>\n",
       "  <tbody>\n",
       "    <tr>\n",
       "      <th>0</th>\n",
       "      <td>1</td>\n",
       "      <td>0.0</td>\n",
       "      <td>3</td>\n",
       "      <td>Braund, Mr. Owen Harris</td>\n",
       "      <td>male</td>\n",
       "      <td>22.0</td>\n",
       "      <td>1</td>\n",
       "      <td>0</td>\n",
       "      <td>A/5 21171</td>\n",
       "      <td>7.2500</td>\n",
       "      <td>NaN</td>\n",
       "      <td>S</td>\n",
       "    </tr>\n",
       "    <tr>\n",
       "      <th>1</th>\n",
       "      <td>2</td>\n",
       "      <td>1.0</td>\n",
       "      <td>1</td>\n",
       "      <td>Cumings, Mrs. John Bradley (Florence Briggs Th...</td>\n",
       "      <td>female</td>\n",
       "      <td>38.0</td>\n",
       "      <td>1</td>\n",
       "      <td>0</td>\n",
       "      <td>PC 17599</td>\n",
       "      <td>71.2833</td>\n",
       "      <td>C85</td>\n",
       "      <td>C</td>\n",
       "    </tr>\n",
       "    <tr>\n",
       "      <th>2</th>\n",
       "      <td>3</td>\n",
       "      <td>1.0</td>\n",
       "      <td>3</td>\n",
       "      <td>Heikkinen, Miss. Laina</td>\n",
       "      <td>female</td>\n",
       "      <td>26.0</td>\n",
       "      <td>0</td>\n",
       "      <td>0</td>\n",
       "      <td>STON/O2. 3101282</td>\n",
       "      <td>7.9250</td>\n",
       "      <td>NaN</td>\n",
       "      <td>S</td>\n",
       "    </tr>\n",
       "    <tr>\n",
       "      <th>3</th>\n",
       "      <td>4</td>\n",
       "      <td>1.0</td>\n",
       "      <td>1</td>\n",
       "      <td>Futrelle, Mrs. Jacques Heath (Lily May Peel)</td>\n",
       "      <td>female</td>\n",
       "      <td>35.0</td>\n",
       "      <td>1</td>\n",
       "      <td>0</td>\n",
       "      <td>113803</td>\n",
       "      <td>53.1000</td>\n",
       "      <td>C123</td>\n",
       "      <td>S</td>\n",
       "    </tr>\n",
       "    <tr>\n",
       "      <th>4</th>\n",
       "      <td>5</td>\n",
       "      <td>0.0</td>\n",
       "      <td>3</td>\n",
       "      <td>Allen, Mr. William Henry</td>\n",
       "      <td>male</td>\n",
       "      <td>35.0</td>\n",
       "      <td>0</td>\n",
       "      <td>0</td>\n",
       "      <td>373450</td>\n",
       "      <td>8.0500</td>\n",
       "      <td>NaN</td>\n",
       "      <td>S</td>\n",
       "    </tr>\n",
       "  </tbody>\n",
       "</table>\n",
       "</div>"
      ],
      "text/plain": [
       "   PassengerId  Survived  Pclass  \\\n",
       "0            1       0.0       3   \n",
       "1            2       1.0       1   \n",
       "2            3       1.0       3   \n",
       "3            4       1.0       1   \n",
       "4            5       0.0       3   \n",
       "\n",
       "                                                Name     Sex   Age  SibSp  \\\n",
       "0                            Braund, Mr. Owen Harris    male  22.0      1   \n",
       "1  Cumings, Mrs. John Bradley (Florence Briggs Th...  female  38.0      1   \n",
       "2                             Heikkinen, Miss. Laina  female  26.0      0   \n",
       "3       Futrelle, Mrs. Jacques Heath (Lily May Peel)  female  35.0      1   \n",
       "4                           Allen, Mr. William Henry    male  35.0      0   \n",
       "\n",
       "   Parch            Ticket     Fare Cabin Embarked  \n",
       "0      0         A/5 21171   7.2500   NaN        S  \n",
       "1      0          PC 17599  71.2833   C85        C  \n",
       "2      0  STON/O2. 3101282   7.9250   NaN        S  \n",
       "3      0            113803  53.1000  C123        S  \n",
       "4      0            373450   8.0500   NaN        S  "
      ]
     },
     "execution_count": 6,
     "metadata": {},
     "output_type": "execute_result"
    }
   ],
   "source": [
    "titanic.head()"
   ]
  },
  {
   "cell_type": "markdown",
   "id": "d2f4196c-aab9-4af7-93ad-bd37b32582a7",
   "metadata": {
    "tags": []
   },
   "source": [
    "そのほかの欠損値補完をしていく"
   ]
  },
  {
   "cell_type": "code",
   "execution_count": 7,
   "id": "32913ded-ee43-4863-867d-574c0861c239",
   "metadata": {},
   "outputs": [],
   "source": [
    "# Fare(運賃)の補完　1308/1309\n",
    "# Pclass(階級) Embarked(乗船場所)が関連してそう\n",
    "# 上記2つの要素の最頻値の組み合わせの中央値を欠損値として補完する\n",
    "\n",
    "P_E_mode = titanic[[\"Pclass\", \"Embarked\"]].mode().values\n",
    "P_E_mode_select = titanic[(titanic[\"Pclass\"] == P_E_mode[0, 0]) & (titanic[\"Embarked\"] == P_E_mode[0, 1])]\n",
    "fill_fare = P_E_mode_select[\"Fare\"].median()\n",
    "titanic[\"Fare\"] = titanic[\"Fare\"].fillna(fill_fare)"
   ]
  },
  {
   "cell_type": "code",
   "execution_count": 8,
   "id": "279455c8-446f-4573-82fa-21c9dbf1d00f",
   "metadata": {
    "tags": []
   },
   "outputs": [
    {
     "name": "stdout",
     "output_type": "stream",
     "text": [
      "<class 'pandas.core.frame.DataFrame'>\n",
      "RangeIndex: 1309 entries, 0 to 1308\n",
      "Data columns (total 12 columns):\n",
      " #   Column       Non-Null Count  Dtype  \n",
      "---  ------       --------------  -----  \n",
      " 0   PassengerId  1309 non-null   int64  \n",
      " 1   Survived     891 non-null    float64\n",
      " 2   Pclass       1309 non-null   int64  \n",
      " 3   Name         1309 non-null   object \n",
      " 4   Sex          1309 non-null   object \n",
      " 5   Age          1309 non-null   float64\n",
      " 6   SibSp        1309 non-null   int64  \n",
      " 7   Parch        1309 non-null   int64  \n",
      " 8   Ticket       1309 non-null   object \n",
      " 9   Fare         1309 non-null   float64\n",
      " 10  Cabin        295 non-null    object \n",
      " 11  Embarked     1307 non-null   object \n",
      "dtypes: float64(3), int64(4), object(5)\n",
      "memory usage: 122.8+ KB\n"
     ]
    }
   ],
   "source": [
    "titanic.info()"
   ]
  },
  {
   "cell_type": "code",
   "execution_count": 9,
   "id": "6794441f-3106-474a-86fb-085a908a68bb",
   "metadata": {
    "tags": []
   },
   "outputs": [
    {
     "name": "stdout",
     "output_type": "stream",
     "text": [
      "<class 'pandas.core.frame.DataFrame'>\n",
      "RangeIndex: 1309 entries, 0 to 1308\n",
      "Data columns (total 13 columns):\n",
      " #   Column       Non-Null Count  Dtype  \n",
      "---  ------       --------------  -----  \n",
      " 0   PassengerId  1309 non-null   int64  \n",
      " 1   Survived     891 non-null    float64\n",
      " 2   Pclass       1309 non-null   int64  \n",
      " 3   Name         1309 non-null   object \n",
      " 4   Sex          1309 non-null   object \n",
      " 5   Age          1309 non-null   float64\n",
      " 6   SibSp        1309 non-null   int64  \n",
      " 7   Parch        1309 non-null   int64  \n",
      " 8   Ticket       1309 non-null   object \n",
      " 9   Fare         1309 non-null   float64\n",
      " 10  Cabin        1309 non-null   object \n",
      " 11  Embarked     1307 non-null   object \n",
      " 12  Cabin_label  1309 non-null   object \n",
      "dtypes: float64(3), int64(4), object(6)\n",
      "memory usage: 133.1+ KB\n"
     ]
    }
   ],
   "source": [
    "# cabin(チケット番号)の補完　295/1309\n",
    "# Unknownで補完し、頭文字を新しい特徴量に置き換える\n",
    "\n",
    "titanic[\"Cabin\"] = titanic[\"Cabin\"].fillna(\"Unknown\")\n",
    "titanic[\"Cabin_label\"] = titanic[\"Cabin\"].str[0]\n",
    "titanic.info()"
   ]
  },
  {
   "cell_type": "code",
   "execution_count": 10,
   "id": "112412a9-62aa-456d-af36-590e3df34428",
   "metadata": {
    "tags": []
   },
   "outputs": [
    {
     "data": {
      "image/png": "[encoded data removed]",
      "text/plain": [
       "<Figure size 640x480 with 1 Axes>"
      ]
     },
     "metadata": {},
     "output_type": "display_data"
    }
   ],
   "source": [
    "# 棒グラフにすると\n",
    "# 欠損値の生存率が明らかに低い　＝　これは特徴として現れたのでこれ以上細かくする必要はない\n",
    "sns.barplot(x=\"Cabin_label\", y=\"Survived\", data=titanic, palette=\"Set3\")\n",
    "plt.show()"
   ]
  },
  {
   "cell_type": "code",
   "execution_count": 11,
   "id": "b94de279-7142-4566-8152-497895e5ce2b",
   "metadata": {
    "tags": []
   },
   "outputs": [
    {
     "name": "stdout",
     "output_type": "stream",
     "text": [
      "<class 'pandas.core.frame.DataFrame'>\n",
      "RangeIndex: 1309 entries, 0 to 1308\n",
      "Data columns (total 13 columns):\n",
      " #   Column       Non-Null Count  Dtype  \n",
      "---  ------       --------------  -----  \n",
      " 0   PassengerId  1309 non-null   int64  \n",
      " 1   Survived     891 non-null    float64\n",
      " 2   Pclass       1309 non-null   int64  \n",
      " 3   Name         1309 non-null   object \n",
      " 4   Sex          1309 non-null   object \n",
      " 5   Age          1309 non-null   float64\n",
      " 6   SibSp        1309 non-null   int64  \n",
      " 7   Parch        1309 non-null   int64  \n",
      " 8   Ticket       1309 non-null   object \n",
      " 9   Fare         1309 non-null   float64\n",
      " 10  Cabin        1309 non-null   object \n",
      " 11  Embarked     1309 non-null   object \n",
      " 12  Cabin_label  1309 non-null   object \n",
      "dtypes: float64(3), int64(4), object(6)\n",
      "memory usage: 133.1+ KB\n"
     ]
    }
   ],
   "source": [
    "# Embarkedの補完　1307/1309\n",
    "fill_Embarked = titanic[\"Embarked\"].mode().values\n",
    "titanic[\"Embarked\"] = titanic[\"Embarked\"].fillna(fill_Embarked[0])\n",
    "titanic.info()"
   ]
  },
  {
   "cell_type": "code",
   "execution_count": 26,
   "id": "609eaf8d-bc94-4291-a25f-407105316ece",
   "metadata": {
    "tags": []
   },
   "outputs": [
    {
     "name": "stdout",
     "output_type": "stream",
     "text": [
      "mean_score =  0.8193194600674917\n",
      "mean_std =  0.018168609228250743\n"
     ]
    },
    {
     "name": "stderr",
     "output_type": "stream",
     "text": [
      "/opt/conda/lib/python3.10/site-packages/sklearn/feature_selection/_univariate_selection.py:112: UserWarning: Features [17] are constant.\n",
      "  warnings.warn(\"Features %s are constant.\" % constant_features_idx, UserWarning)\n",
      "/opt/conda/lib/python3.10/site-packages/sklearn/feature_selection/_univariate_selection.py:113: RuntimeWarning: invalid value encountered in divide\n",
      "  f = msb / msw\n"
     ]
    }
   ],
   "source": [
    "from sklearn.ensemble import RandomForestClassifier\n",
    "from sklearn.feature_selection import SelectKBest\n",
    "from sklearn.model_selection import cross_validate\n",
    "from sklearn.pipeline import make_pipeline\n",
    "\n",
    "titanic_select = titanic[[\"Survived\", \"Pclass\", \"Sex\", \"Age\", \"SibSp\", \"Parch\", \"Fare\", \"Embarked\", \"Cabin_label\"]]\n",
    "titanic_select_1hot = pd.get_dummies(titanic_select, dtype=\"uint8\")\n",
    "train_data = titanic_select_1hot[titanic_select_1hot[\"Survived\"].notnull()]\n",
    "test_data = titanic_select_1hot[titanic_select_1hot[\"Survived\"].isnull()].drop(\"Survived\", axis=1)\n",
    "X = train_data.values[:, 1:]\n",
    "y = train_data.values[:, 0]\n",
    "test_x = test_data.values\n",
    "\n",
    "select = SelectKBest(k='all')\n",
    "model = RandomForestClassifier(random_state=0, warm_start=True, n_estimators=25, max_depth=6, max_features=\"sqrt\")\n",
    "pipeline = make_pipeline(select, model)\n",
    "pipeline.fit(X, y)\n",
    "cv_result = cross_validate(pipeline, X, y, cv=7)\n",
    "print(\"mean_score = \", np.mean(cv_result[\"test_score\"]))\n",
    "print(\"mean_std = \", np.std(cv_result[\"test_score\"]))"
   ]
  },
  {
   "cell_type": "code",
   "execution_count": 13,
   "id": "5effede2-0a6b-494c-a041-368d3217974d",
   "metadata": {
    "tags": []
   },
   "outputs": [],
   "source": [
    "# ----- Submit dataの作成　-------\n",
    "# test:ディレクトリ「input」内のtest.csv\n",
    "PassengerId = test[\"PassengerId\"]\n",
    "predictions = pipeline.predict(test_x)\n",
    "submission = pd.DataFrame({\"PassengerId\": PassengerId, \"Survived\": predictions.astype(np.int32)})\n",
    "submission.to_csv(\"my_submission.csv\", index=False)"
   ]
  },
  {
   "cell_type": "code",
   "execution_count": null,
   "id": "da6322ba-5eb2-42ce-90cf-5e9334e531f0",
   "metadata": {},
   "outputs": [],
   "source": []
  }
 ],
 "metadata": {
  "kernelspec": {
   "display_name": "Python 3 (ipykernel)",
   "language": "python",
   "name": "python3"
  },
  "language_info": {
   "codemirror_mode": {
    "name": "ipython",
    "version": 3
   },
   "file_extension": ".py",
   "mimetype": "text/x-python",
   "name": "python",
   "nbconvert_exporter": "python",
   "pygments_lexer": "ipython3",
   "version": "3.10.12"
  }
 },
 "nbformat": 4,
 "nbformat_minor": 5
}
